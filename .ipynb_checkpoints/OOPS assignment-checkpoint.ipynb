{
 "cells": [
  {
   "cell_type": "markdown",
   "id": "afd04ed8-4b45-414c-ac58-fedb6bdb4dae",
   "metadata": {},
   "source": [
    "## 1. What are the five key concepts of Object-Oriented Programming (OOP)?"
   ]
  },
  {
   "cell_type": "markdown",
   "id": "e2d08bc7-8827-4a20-b402-e180a662bc1b",
   "metadata": {},
   "source": [
    "The 5 points are:\n",
    "\n",
    "Encapsulation: Bundling data and methods that operate on the data within a single unit, or class, and restricting direct access to some of the object's components.\n",
    "\n",
    "Abstraction: Hiding complex implementation details and showing only the essential features of the object, allowing the user to interact with what is intended for\n",
    "\n",
    "Inheritance: Creating new classes based on existing classes, inheriting their properties and behaviors, and allowing for hierarchical classification and code reuse. The properties derived from is called Super Class or Base class. The class inheting the properties is called child class.\n",
    "\n",
    "Polymorphism: Allowing objects of different classes to be treated as objects of a common superclass, with methods that can take on many forms depending on the object’s actual class.\n",
    "\n",
    "OOP allows for modular, reusable, and maintainable code."
   ]
  },
  {
   "cell_type": "markdown",
   "id": "a25a53dc-4a99-4819-bacf-5aebd3d1a109",
   "metadata": {},
   "source": [
    "##  2.Write a Python class for a `Car` with attributes for `make`, `model`, and `year`. Include a method to display the car's information."
   ]
  },
  {
   "cell_type": "code",
   "execution_count": 7,
   "id": "fd925e01-b055-4447-bbdb-1e06c91adfd1",
   "metadata": {},
   "outputs": [],
   "source": [
    "class Car:\n",
    "    def __init__(self, make,model,year):\n",
    "        self.year = year\n",
    "        self.make = make\n",
    "        self.model = model\n",
    "    def display_info(self):\n",
    "        print(\" manufacturing company:\",self.make)\n",
    "        print(\" year:\",self.year)\n",
    "        print(\" Model:\",self.model)\n",
    "\n",
    "    "
   ]
  },
  {
   "cell_type": "code",
   "execution_count": 9,
   "id": "c968bfde-918c-4534-a423-4bf528e090cc",
   "metadata": {},
   "outputs": [],
   "source": [
    "c = Car(\"Mahinder\",\"Thar\",2022)"
   ]
  },
  {
   "cell_type": "code",
   "execution_count": 10,
   "id": "210e919d-08e2-45b5-b1d1-6b4ed599595d",
   "metadata": {},
   "outputs": [
    {
     "name": "stdout",
     "output_type": "stream",
     "text": [
      " manufacturing company: Mahinder\n",
      " year: 2022\n",
      " Model: Thar\n"
     ]
    }
   ],
   "source": [
    "c.display_info()"
   ]
  },
  {
   "cell_type": "markdown",
   "id": "6edcecbf-08d9-4cad-9a68-ef0e37650bae",
   "metadata": {},
   "source": [
    "##  3.Explain the difference between instance methods and class methods. Provide an example of each"
   ]
  },
  {
   "cell_type": "markdown",
   "id": "81041e75-0113-49b2-af2a-876207b335cd",
   "metadata": {},
   "source": [
    "### Instance methods:\n",
    "Instance methods are the most common type of methods in a class. They operate on an instance of the class and can access and modify the object's attributes.\n",
    "Instance methods require an object (instance) of the class to be called. The first parameter is always self, which refers to the instance of the class."
   ]
  },
  {
   "cell_type": "code",
   "execution_count": 39,
   "id": "acc3825c-20d4-43db-94eb-003f3fe94081",
   "metadata": {},
   "outputs": [],
   "source": [
    "# example:\n",
    "class Student:\n",
    "    def __init__(self,name):\n",
    "        self.name = name\n",
    "    def display(self):\n",
    "        return f\"the name is --> {self.name}\"\n"
   ]
  },
  {
   "cell_type": "code",
   "execution_count": 40,
   "id": "2ec128e0-1a5a-4846-add6-df03dee5b5f8",
   "metadata": {},
   "outputs": [
    {
     "data": {
      "text/plain": [
       "'the name is --> Arnab Lala'"
      ]
     },
     "execution_count": 40,
     "metadata": {},
     "output_type": "execute_result"
    }
   ],
   "source": [
    "s = Student(\"Arnab Lala\")\n",
    "s.display()"
   ]
  },
  {
   "cell_type": "markdown",
   "id": "fc4013fc-0b98-4b7e-a111-4829384d2a57",
   "metadata": {},
   "source": [
    "### Class Method:\n",
    "A class method is a method that is bound to the class and not the object of the class. It can access and modify class state that applies across all instances of the class. To define a class method, you use the @classmethod decorator, and the first parameter is always cls, which refers to the class itself.\n",
    "\n",
    "Key Points:\n",
    "\n",
    "Class methods can modify a class’s state that applies across all instances of the class.\n",
    "They can be called on the class itself, rather than on an instance of the class."
   ]
  },
  {
   "cell_type": "code",
   "execution_count": 27,
   "id": "7518d8ed-a5dc-4716-9a73-55d13f7ec548",
   "metadata": {},
   "outputs": [
    {
     "name": "stdout",
     "output_type": "stream",
     "text": [
      "There are 2 instances of MyClass.\n"
     ]
    }
   ],
   "source": [
    "## example\n",
    "\n",
    "class MyClass:\n",
    "\n",
    "    count = 0  # Class variable\n",
    "\n",
    " \n",
    "\n",
    "    def __init__(self):\n",
    "\n",
    "       MyClass.count += 1\n",
    "\n",
    " \n",
    "\n",
    "    @classmethod\n",
    "\n",
    "    def get_count(cls):\n",
    "\n",
    "        return f\"There are {cls.count} instances of {cls.__name__}.\"\n",
    "\n",
    " \n",
    "\n",
    "# Creating instances of MyClass\n",
    "\n",
    "obj1 = MyClass()\n",
    "\n",
    "obj2 = MyClass()\n",
    "\n",
    " \n",
    "\n",
    "# Calling the class method\n",
    "\n",
    "print(MyClass.get_count()) "
   ]
  },
  {
   "cell_type": "code",
   "execution_count": null,
   "id": "cbb668fe-2174-46dc-8330-f628d95bd796",
   "metadata": {},
   "outputs": [],
   "source": []
  },
  {
   "cell_type": "code",
   "execution_count": null,
   "id": "0141f958-3a72-4b16-a1f6-f626ca67f31c",
   "metadata": {},
   "outputs": [],
   "source": []
  },
  {
   "cell_type": "markdown",
   "id": "602774f8-d2cf-4ce7-a0f6-d02e20a5f10b",
   "metadata": {},
   "source": [
    "## 4.How does Python implement method overloading? Give an example"
   ]
  },
  {
   "cell_type": "markdown",
   "id": "fa0386b2-aa63-4225-b8ed-e31a3c516e6b",
   "metadata": {},
   "source": [
    "Python doesn't support method overloading .. instead it uses different approach\n",
    "\n",
    "1.Default Arguments: You can provide default values for arguments to allow a method to be called with different numbers of arguments.\n",
    "\n",
    "2.Variable-Length Arguments: Using *args and **kwargs, you can accept a variable number of positional and keyword arguments."
   ]
  },
  {
   "cell_type": "code",
   "execution_count": 30,
   "id": "66a7b595-1635-4e5b-b793-29d87c5df6b1",
   "metadata": {},
   "outputs": [
    {
     "name": "stdout",
     "output_type": "stream",
     "text": [
      "15\n",
      "30\n"
     ]
    }
   ],
   "source": [
    "#example No.1\n",
    "class Calculator:\n",
    "    def product(self, a, b, c=1):\n",
    "        return a*b*c\n",
    "    \n",
    "calc = Calculator()\n",
    "\n",
    "\n",
    "print(calc.product(5, 3)) # output 15\n",
    "\n",
    "\n",
    "print(calc.product(5, 3, 2)) # Output: 30\n"
   ]
  },
  {
   "cell_type": "code",
   "execution_count": 38,
   "id": "391748cb-b089-41b5-bc2b-2aab6457601f",
   "metadata": {},
   "outputs": [
    {
     "name": "stdout",
     "output_type": "stream",
     "text": [
      "15\n",
      "30\n",
      "120\n"
     ]
    }
   ],
   "source": [
    "#eample No. 2\n",
    "class Calculator:\n",
    "    def product(self, *args):\n",
    "        p=1\n",
    "        for i in args:\n",
    "            p=p*i\n",
    "        return p\n",
    "\n",
    "# Create an instance of Calculator\n",
    "calc = Calculator()\n",
    "\n",
    "\n",
    "print(calc.product(5, 3))           # Output: 15\n",
    "print(calc.product(5, 3, 2))        # Output: 30\n",
    "print(calc.product(1, 2, 3, 4, 5))  # Output: 120\n"
   ]
  },
  {
   "cell_type": "code",
   "execution_count": null,
   "id": "3789cd71-6133-40ad-80fb-99b32c545327",
   "metadata": {},
   "outputs": [],
   "source": []
  },
  {
   "cell_type": "code",
   "execution_count": null,
   "id": "e92afcca-c96a-4777-9d99-f01bfae3aa1f",
   "metadata": {},
   "outputs": [],
   "source": []
  },
  {
   "cell_type": "markdown",
   "id": "f8ea34bc-b3ea-48a2-b07a-bbafd8c792f9",
   "metadata": {},
   "source": [
    "## 5. What are the three types of access modifiers in Python? How are they denoted?"
   ]
  },
  {
   "cell_type": "markdown",
   "id": "4b1ac0c8-ac3b-4020-9329-5d7c7798f575",
   "metadata": {},
   "source": [
    "a) 1. Public access specifier"
   ]
  },
  {
   "cell_type": "code",
   "execution_count": 45,
   "id": "138fcae7-f027-4b26-bdb6-01319a2e62f2",
   "metadata": {},
   "outputs": [
    {
     "name": "stdout",
     "output_type": "stream",
     "text": [
      "PW Skills\n",
      "Public value: Name--> PW Skills and Year of joining--> 2024\n"
     ]
    }
   ],
   "source": [
    "#example\n",
    "class University:\n",
    "    def __init__(self, name, year):\n",
    "        self.name = name\n",
    "        self.year = year\n",
    "\n",
    "    def public_method(self): #public method\n",
    "        return f\"Public value: Name--> {self.name} and Year of joining--> {self.year}\"\n",
    "\n",
    "un = University(\"PW Skills\", 2024)\n",
    "print(un.name)  # Accessing a public attribute\n",
    "print(un.public_method())  # Calling a public method\n"
   ]
  },
  {
   "cell_type": "markdown",
   "id": "424c5ddb-d772-4b87-ac91-509cf316f77f",
   "metadata": {},
   "source": [
    "b) Protected access specifier"
   ]
  },
  {
   "cell_type": "code",
   "execution_count": 55,
   "id": "50318c18-01fc-43e6-9ec6-1e772d925fe4",
   "metadata": {},
   "outputs": [],
   "source": [
    "# example\n",
    "class College:\n",
    "    def __init__(self):\n",
    "        self._college_name = \"PWSkills\"\n",
    "class Student(College): ## Student is inheriting College .. Student is a subclass\n",
    "    def __init__(self, name):\n",
    "        self.name = name\n",
    "        College.__init__(self) #accesing variable of base class>>classname__init__(self)\n",
    "        \n",
    "    def show(self):\n",
    "        print(\"name\", self.name, \"college\", self._college_name) #directly call the base class variable using \"_\"\n"
   ]
  },
  {
   "cell_type": "code",
   "execution_count": 56,
   "id": "c233ec0f-38de-433f-af73-fe21080aac32",
   "metadata": {},
   "outputs": [],
   "source": [
    "stud = Student(\"Raosaab Rohan\")"
   ]
  },
  {
   "cell_type": "code",
   "execution_count": 57,
   "id": "98d07b08-6824-4ddf-99ec-304f6ac9492e",
   "metadata": {},
   "outputs": [
    {
     "data": {
      "text/plain": [
       "'Raosaab Rohan'"
      ]
     },
     "execution_count": 57,
     "metadata": {},
     "output_type": "execute_result"
    }
   ],
   "source": [
    "stud.name"
   ]
  },
  {
   "cell_type": "code",
   "execution_count": 58,
   "id": "1c6ad7c1-820c-4bff-b964-ae5f3ffdf5ca",
   "metadata": {},
   "outputs": [
    {
     "name": "stdout",
     "output_type": "stream",
     "text": [
      "name Raosaab Rohan college PWSkills\n"
     ]
    }
   ],
   "source": [
    "stud.show()"
   ]
  },
  {
   "cell_type": "code",
   "execution_count": 59,
   "id": "71ff83d7-eb0d-44fd-8bcc-b30e476fa7d1",
   "metadata": {},
   "outputs": [
    {
     "data": {
      "text/plain": [
       "'PWSkills'"
      ]
     },
     "execution_count": 59,
     "metadata": {},
     "output_type": "execute_result"
    }
   ],
   "source": [
    "clg = College()\n",
    "clg._college_name"
   ]
  },
  {
   "cell_type": "markdown",
   "id": "69432f76-5ffa-4c2e-abc0-9187431a5d4e",
   "metadata": {},
   "source": [
    "c) Private"
   ]
  },
  {
   "cell_type": "code",
   "execution_count": 60,
   "id": "37c4bcfc-8b08-497e-9c91-1feb44de6577",
   "metadata": {},
   "outputs": [],
   "source": [
    "#example\n",
    "class Bank: #either you deposit or withdraw\n",
    "    \n",
    "    def __init__(self, balance):\n",
    "        self.__balance = balance\n",
    "        \n",
    "    def deposit(self, amount): #amount is new deposition\n",
    "        self.__balance = self.__balance + amount\n",
    "    \n",
    "    def withdraw(self, amount):\n",
    "        if self.__balance >= amount:\n",
    "            self.__balance = self.__balance - amount\n",
    "            return True\n",
    "        else:\n",
    "            return False\n",
    "        \n",
    "    def get_balance(self):\n",
    "        return self.__balance"
   ]
  },
  {
   "cell_type": "code",
   "execution_count": 63,
   "id": "ba6947c1-af36-46e7-b4f1-0ac7668dd2cb",
   "metadata": {},
   "outputs": [],
   "source": [
    "b = Bank(10000)"
   ]
  },
  {
   "cell_type": "code",
   "execution_count": 64,
   "id": "a51f9171-a7a5-4e1e-a0e8-d2a6e4beef4c",
   "metadata": {},
   "outputs": [],
   "source": [
    "b.deposit(10000)"
   ]
  },
  {
   "cell_type": "code",
   "execution_count": 65,
   "id": "7a2cf979-4387-476a-84ad-c609aff57014",
   "metadata": {},
   "outputs": [
    {
     "data": {
      "text/plain": [
       "20000"
      ]
     },
     "execution_count": 65,
     "metadata": {},
     "output_type": "execute_result"
    }
   ],
   "source": [
    "b.get_balance()"
   ]
  },
  {
   "cell_type": "code",
   "execution_count": 66,
   "id": "e6c0a490-abc3-473c-a06d-48847eb5ea80",
   "metadata": {},
   "outputs": [
    {
     "data": {
      "text/plain": [
       "True"
      ]
     },
     "execution_count": 66,
     "metadata": {},
     "output_type": "execute_result"
    }
   ],
   "source": [
    "b.withdraw(15000)"
   ]
  },
  {
   "cell_type": "code",
   "execution_count": 67,
   "id": "e84875b4-f014-4e38-8a6a-7af818bcfc26",
   "metadata": {},
   "outputs": [
    {
     "data": {
      "text/plain": [
       "5000"
      ]
     },
     "execution_count": 67,
     "metadata": {},
     "output_type": "execute_result"
    }
   ],
   "source": [
    "b.get_balance()"
   ]
  },
  {
   "cell_type": "code",
   "execution_count": null,
   "id": "6cc3a7a6-b563-4a45-9faa-de4ca4ba0d49",
   "metadata": {},
   "outputs": [],
   "source": []
  },
  {
   "cell_type": "code",
   "execution_count": null,
   "id": "521b03d4-4ec9-4c28-bd14-5619cd394c29",
   "metadata": {},
   "outputs": [],
   "source": []
  },
  {
   "cell_type": "markdown",
   "id": "0734500e-b3e5-48d3-964f-82b181d3f76b",
   "metadata": {},
   "source": [
    "## 6. Describe the five types of inheritance in Python. Provide a simple example of multiple inheritance."
   ]
  },
  {
   "cell_type": "markdown",
   "id": "8bd069a3-1fd1-4d4d-b259-a379f08af2be",
   "metadata": {},
   "source": [
    "Single Inheritance: A child class inherits from one parent class.\n",
    "\n",
    "Multiple Inheritance: A child class inherits from more than one parent class. Python supports this, unlike some other languages.\n",
    "\n",
    "Multilevel Inheritance: A class inherits from a class which itself inherits from another class.\n",
    "\n",
    "Hierarchical Inheritance: Multiple classes inherit from the same parent class.\n",
    "\n",
    "Hybrid Inheritance: A combination of multiple types of inheritance."
   ]
  },
  {
   "cell_type": "code",
   "execution_count": 56,
   "id": "1c9686a1-835c-47f3-a4d0-79d6f46dbc9e",
   "metadata": {},
   "outputs": [
    {
     "name": "stdout",
     "output_type": "stream",
     "text": [
      "Daddy's Gender is --> male\n",
      "Mommy's Gender is --> female\n",
      "Name --> Rohan\n",
      "Gender --> male\n"
     ]
    }
   ],
   "source": [
    "#example of multiple inheritance\n",
    "class Daddy:\n",
    "    def __init__(self, gender1):\n",
    "        self.gender1 = gender1\n",
    "    \n",
    "    def display_gender_dad(self):\n",
    "        print(f\"Daddy's Gender is --> {self.gender1}\")\n",
    "\n",
    "class Mommy:\n",
    "    def __init__(self, gender2):\n",
    "        self.gender2 = gender2\n",
    "    \n",
    "    def display_gender_mom(self):\n",
    "        print(f\"Mommy's Gender is --> {self.gender2}\")\n",
    "\n",
    "class Child(Daddy, Mommy):\n",
    "    def __init__(self, name,gender):\n",
    "        # Initialize parents' constructors\n",
    "        Daddy.__init__(self, gender1=\"male\")  # Initialize Daddy with gender\n",
    "        Mommy.__init__(self, gender2=\"female\")  # Initialize Mommy with gender\n",
    "        self.name = name\n",
    "        self.gender = gender\n",
    "    \n",
    "    def show_info(self):\n",
    "        print(f\"Name --> {self.name}\")\n",
    "        print(f\"Gender --> {self.gender}\")\n",
    "\n",
    "# Create an instance of Child\n",
    "child_instance = Child(\"Rohan\",\"male\")\n",
    "\n",
    "# Calling methods\n",
    "child_instance.display_gender_dad()  # Output: Daddy's Gender is --> male\n",
    "child_instance.display_gender_mom()  # Output: Mommy's Gender is --> male\n",
    "child_instance.show_info()           # Output: Name --> Alex\n",
    "\n",
    "\n",
    "\n"
   ]
  },
  {
   "cell_type": "code",
   "execution_count": null,
   "id": "8afdb458-888a-4307-adb6-e224a76aede5",
   "metadata": {},
   "outputs": [],
   "source": []
  },
  {
   "cell_type": "markdown",
   "id": "78ea5e13-f2bb-4a67-be91-41799cc4ffa0",
   "metadata": {},
   "source": [
    "## 7. What is the Method Resolution Order (MRO) in Python? How can you retrieve it programmatically?"
   ]
  },
  {
   "cell_type": "markdown",
   "id": "89a037d1-ac86-4b44-b8ed-b55406262c4c",
   "metadata": {},
   "source": [
    "This is a mechanism followed by python interpreter to determine which class is first inherited ,then which class inherited secondly and so on, especially during multiple inheritance case while searching for an attribute or methode by  a child class.When a method or attribute is accessed in an instance of a class, Python needs a consistent way to decide which method or attribute to use if there are multiple inheritance paths.In such scenario, MRO comes to rescue"
   ]
  },
  {
   "cell_type": "code",
   "execution_count": 2,
   "id": "8a439672-d260-42ee-b462-8cfd1ef02ea6",
   "metadata": {},
   "outputs": [],
   "source": [
    "# CLassic example to use MRO is Diamond Problem\n",
    "class ParentClass1:\n",
    "    def method_par(self):\n",
    "        print(\"method 1 of parent class 1\")\n",
    "class ParentClass2:\n",
    "    def method_par(self):\n",
    "        print(\"method2 of parent class 2\")\n",
    "class ChildClass(ParentClass1, ParentClass2):\n",
    "    def method(self):\n",
    "        print(\"method of child class\")\n"
   ]
  },
  {
   "cell_type": "code",
   "execution_count": 4,
   "id": "aadcd2bf-c6f2-4395-bd3e-d3242f040bb9",
   "metadata": {},
   "outputs": [
    {
     "name": "stdout",
     "output_type": "stream",
     "text": [
      "method 1 of parent class 1\n"
     ]
    }
   ],
   "source": [
    "c = ChildClass()\n",
    "c.method_par() ## upon called inherited methods.. only 1st inherited method gets called"
   ]
  },
  {
   "cell_type": "code",
   "execution_count": null,
   "id": "78f82187-ed06-47e2-8e8b-a0f054f6e996",
   "metadata": {},
   "outputs": [],
   "source": []
  },
  {
   "cell_type": "markdown",
   "id": "29e99a39-d33f-48ea-9ef5-fb8fc0830dbd",
   "metadata": {},
   "source": [
    "## 8. Create an abstract base class `Shape` with an abstract method `area()`. Then create two subclasses`Circle` and `Rectangle` that implement the `area()` method."
   ]
  },
  {
   "cell_type": "code",
   "execution_count": 5,
   "id": "6840fe7f-8e81-46ed-82ec-68ffd2d6bcb5",
   "metadata": {},
   "outputs": [],
   "source": [
    "import abc"
   ]
  },
  {
   "cell_type": "code",
   "execution_count": 29,
   "id": "e8234eed-087b-4f40-b146-64a469290a53",
   "metadata": {},
   "outputs": [],
   "source": [
    "## Use Case2:\n",
    "class Shape:\n",
    "    @abc.abstractmethod\n",
    "    def area(self):\n",
    "        pass\n",
    "    \n",
    "class Circle:\n",
    "    def __init__(self,r):\n",
    "        self.r = r\n",
    "        \n",
    "    def area(self):\n",
    "        print(\"The area of circle is: \",3.14*self.r**2)\n",
    "\n",
    "class Rectangle:\n",
    "    def __init__(self,l,b):\n",
    "        self.l = l\n",
    "        self.b = b\n",
    "        \n",
    "    def area(self):\n",
    "        print(\"The area of Rectangle is: \",self.l * self.b)\n",
    "\n"
   ]
  },
  {
   "cell_type": "code",
   "execution_count": 26,
   "id": "e9f2f044-9566-48f3-9be2-35cd27e64c29",
   "metadata": {},
   "outputs": [
    {
     "name": "stdout",
     "output_type": "stream",
     "text": [
      "The area of circle is:  78.5\n"
     ]
    }
   ],
   "source": [
    "c = Circle(5)\n",
    "c.area()"
   ]
  },
  {
   "cell_type": "code",
   "execution_count": 30,
   "id": "72b7abd7-97d5-4da6-83a0-a73c7d24a953",
   "metadata": {},
   "outputs": [
    {
     "name": "stdout",
     "output_type": "stream",
     "text": [
      "The area of Rectangle is:  15\n"
     ]
    }
   ],
   "source": [
    "r = Rectangle(l=5,b=3)\n",
    "r.area()"
   ]
  },
  {
   "cell_type": "code",
   "execution_count": null,
   "id": "a21e4f40-8d98-4bcd-a9a8-ab39b5a66d8f",
   "metadata": {},
   "outputs": [],
   "source": []
  },
  {
   "cell_type": "markdown",
   "id": "1c5ffc1d-4bbc-4b25-9ba7-ffe5a3be575f",
   "metadata": {},
   "source": [
    "## 9. Demonstrate polymorphism by creating a function that can work with different shape objects to calculate and print their areas"
   ]
  },
  {
   "cell_type": "code",
   "execution_count": 36,
   "id": "e9d490d2-21bd-4577-bf24-4c939b8dfe02",
   "metadata": {},
   "outputs": [],
   "source": [
    "class Shape:\n",
    "    def __init__(self):\n",
    "        print(\"Simple Shape class with no attributes\")\n",
    "    def area(self):\n",
    "        pass\n",
    "\n",
    "class Square:\n",
    "    def __init__(self,side):\n",
    "        self.side = side\n",
    "        \n",
    "    def area(self):\n",
    "        print(\"Area: \",self.side * self.side)\n",
    "\n",
    "class Rectanglee:\n",
    "    def __init__(self,l,b):\n",
    "        self.l = l\n",
    "        self.b = b\n",
    "        \n",
    "    def area(self):\n",
    "        print(\"Area: \",self.l * self.b)"
   ]
  },
  {
   "cell_type": "code",
   "execution_count": 52,
   "id": "643734d5-4646-4d41-a511-7d909b315a7c",
   "metadata": {},
   "outputs": [
    {
     "name": "stdout",
     "output_type": "stream",
     "text": [
      "Area:  25\n",
      "Area:  15\n"
     ]
    }
   ],
   "source": [
    "sq = Square(5)\n",
    "rect = Rectanglee(3,5)\n",
    "\n",
    "class_obj = [sq, rect] ## we can even create a list for objects\n",
    "def parcer(class_obj):\n",
    "    for i in class_obj:\n",
    "        i.area() #at this point, lec_info is taking two forms wrt techer and students\n",
    "        \n",
    "parcer(class_obj)"
   ]
  },
  {
   "cell_type": "code",
   "execution_count": null,
   "id": "74dcf9e4-9da1-4e64-ae75-24ea4265c717",
   "metadata": {},
   "outputs": [],
   "source": []
  },
  {
   "cell_type": "markdown",
   "id": "fc8398a2-c36c-4f0c-8078-13a3498f3047",
   "metadata": {
    "tags": []
   },
   "source": [
    "## 10. Implement encapsulation in a `BankAccount` class with private attributes for `balance` and`account_number`. Include methods for deposit,withdrawal, and balance inquiry."
   ]
  },
  {
   "cell_type": "code",
   "execution_count": 188,
   "id": "88d7f81b-7cb1-466e-9172-75a165afa93b",
   "metadata": {},
   "outputs": [],
   "source": [
    "class BankAccount: #either you deposit or withdraw\n",
    "   \n",
    "    def __init__(self,balance,account_number):\n",
    "        self.__balance = balance\n",
    "        self.__account_number = account_number\n",
    "        \n",
    "    def deposit(self,amount,account_number): #amount is new deposition\n",
    "        if self.__account_number == account_number:\n",
    "            self.__balance = self.__balance + amount\n",
    "            return \"successful\"\n",
    "        else:\n",
    "            return (\"Wrong Account Number\")\n",
    "    \n",
    "    def withdraw(self, amount, account_number):\n",
    "        if self.__account_number == account_number:\n",
    "            if self.__balance >= amount:\n",
    "                self.__balance -= amount\n",
    "                return \"Withdrawal successful\"\n",
    "            else:\n",
    "                return \"Insufficient amount available\"\n",
    "        else:\n",
    "            return \"Wrong account number\"\n",
    "        \n",
    "    def show_available_balance(self,account_number):\n",
    "        if self.__account_number == account_number:\n",
    "            return self.__balance\n",
    "        else:\n",
    "            return \"Wrong Account Number\""
   ]
  },
  {
   "cell_type": "code",
   "execution_count": 198,
   "id": "b0db87e0-0f56-43f7-a432-a631b67e9c65",
   "metadata": {},
   "outputs": [],
   "source": [
    "ba = BankAccount(500,999)"
   ]
  },
  {
   "cell_type": "code",
   "execution_count": null,
   "id": "272222f6-f551-4cb3-96c7-0f436de10c14",
   "metadata": {},
   "outputs": [],
   "source": []
  },
  {
   "cell_type": "code",
   "execution_count": 199,
   "id": "d5a2d557-0973-496b-8e57-93a7d4af3067",
   "metadata": {
    "tags": []
   },
   "outputs": [
    {
     "data": {
      "text/plain": [
       "'Wrong Account Number'"
      ]
     },
     "execution_count": 199,
     "metadata": {},
     "output_type": "execute_result"
    }
   ],
   "source": [
    "ba.show_available_balance(99)"
   ]
  },
  {
   "cell_type": "code",
   "execution_count": null,
   "id": "ab6dac8c-ec69-4104-9202-fcdb798f0a73",
   "metadata": {},
   "outputs": [],
   "source": []
  },
  {
   "cell_type": "code",
   "execution_count": 200,
   "id": "a030ebc8-41c9-4214-bf10-0fce5cbe3c19",
   "metadata": {},
   "outputs": [
    {
     "data": {
      "text/plain": [
       "500"
      ]
     },
     "execution_count": 200,
     "metadata": {},
     "output_type": "execute_result"
    }
   ],
   "source": [
    "ba.show_available_balance(999)"
   ]
  },
  {
   "cell_type": "code",
   "execution_count": 201,
   "id": "de952e4d-19f9-444a-868c-e15258f64499",
   "metadata": {},
   "outputs": [
    {
     "data": {
      "text/plain": [
       "'Wrong Account Number'"
      ]
     },
     "execution_count": 201,
     "metadata": {},
     "output_type": "execute_result"
    }
   ],
   "source": [
    "ba.deposit(1000,9)"
   ]
  },
  {
   "cell_type": "code",
   "execution_count": null,
   "id": "e856992d-dd2f-429e-a117-226999d5ff51",
   "metadata": {},
   "outputs": [],
   "source": []
  },
  {
   "cell_type": "code",
   "execution_count": 202,
   "id": "10424808-257d-4c26-8ee8-bc8fe9c7c84d",
   "metadata": {},
   "outputs": [
    {
     "data": {
      "text/plain": [
       "'successful'"
      ]
     },
     "execution_count": 202,
     "metadata": {},
     "output_type": "execute_result"
    }
   ],
   "source": [
    "ba.deposit(1000,999)"
   ]
  },
  {
   "cell_type": "code",
   "execution_count": 203,
   "id": "5cad71a0-3004-4217-896d-b6779d8658d5",
   "metadata": {},
   "outputs": [
    {
     "data": {
      "text/plain": [
       "1500"
      ]
     },
     "execution_count": 203,
     "metadata": {},
     "output_type": "execute_result"
    }
   ],
   "source": [
    "ba.show_available_balance(999)"
   ]
  },
  {
   "cell_type": "code",
   "execution_count": null,
   "id": "3e4c6ca3-1445-4df4-98cc-d6f96adedeca",
   "metadata": {},
   "outputs": [],
   "source": []
  },
  {
   "cell_type": "code",
   "execution_count": 204,
   "id": "3f7e69c9-89bd-48bf-b590-fe9708781964",
   "metadata": {},
   "outputs": [
    {
     "data": {
      "text/plain": [
       "'Withdrawal successful'"
      ]
     },
     "execution_count": 204,
     "metadata": {},
     "output_type": "execute_result"
    }
   ],
   "source": [
    "ba.withdraw(500,999)"
   ]
  },
  {
   "cell_type": "code",
   "execution_count": null,
   "id": "29a4f826-9142-48b7-bae6-b76ed2ff8455",
   "metadata": {},
   "outputs": [],
   "source": []
  },
  {
   "cell_type": "code",
   "execution_count": 205,
   "id": "33c738b7-1f75-4792-9473-78a212d8195b",
   "metadata": {},
   "outputs": [
    {
     "data": {
      "text/plain": [
       "1000"
      ]
     },
     "execution_count": 205,
     "metadata": {},
     "output_type": "execute_result"
    }
   ],
   "source": [
    "ba.show_available_balance(999)"
   ]
  },
  {
   "cell_type": "code",
   "execution_count": null,
   "id": "f06f3329-51ef-4c2a-a797-03de0edd4d11",
   "metadata": {},
   "outputs": [],
   "source": []
  },
  {
   "cell_type": "markdown",
   "id": "5fe22f85-6470-4cad-9830-6156fd24cf8a",
   "metadata": {},
   "source": [
    "## 11. Write a class that overrides the `__str__` and `__add__` magic methods. What will these methods allow you to do?"
   ]
  },
  {
   "cell_type": "markdown",
   "id": "866a642f-7773-495a-b144-5ea55ea233df",
   "metadata": {},
   "source": [
    "Dunder methods, also known as magic methods or special methods, are a set of predefined methods in Python that allow us to define how objects of our classes behave in specific situations. __str__ and __add__ are part of those. \n"
   ]
  },
  {
   "cell_type": "markdown",
   "id": "7b862c33-56d2-4a90-805f-529ab1c9568e",
   "metadata": {},
   "source": [
    "__str__: Used by the str() function and the print() function to create a string representation that is readable and user-friendly."
   ]
  },
  {
   "cell_type": "code",
   "execution_count": 1,
   "id": "304a14e1-9398-401d-a5b8-f9ef48b80f42",
   "metadata": {},
   "outputs": [],
   "source": [
    "## example of __str__ moethod\n",
    "class Person:\n",
    "\n",
    "    def __init__(self, name, age):\n",
    "\n",
    "        self.name = name\n",
    "\n",
    "        self.age = age\n",
    "\n",
    " \n",
    "\n",
    "    def __str__(self):\n",
    "\n",
    "        return f\"{self.name}, {self.age} years old\""
   ]
  },
  {
   "cell_type": "code",
   "execution_count": 4,
   "id": "c85dede0-c0bd-410b-bdd5-951347c4a4ac",
   "metadata": {},
   "outputs": [
    {
     "name": "stdout",
     "output_type": "stream",
     "text": [
      "Alice, 30 years old\n"
     ]
    }
   ],
   "source": [
    "## creatinh instance of class Person\n",
    "person = Person(\"Alice\", 30)\n",
    "\n",
    "print(str(person))"
   ]
  },
  {
   "cell_type": "code",
   "execution_count": 6,
   "id": "7e1897f2-6a23-4b92-907f-a336d4182da0",
   "metadata": {},
   "outputs": [
    {
     "name": "stdout",
     "output_type": "stream",
     "text": [
      "Vector(6, 8)\n"
     ]
    }
   ],
   "source": [
    "\"\"\"\n",
    "__add__: Addition\n",
    "\n",
    "The __add__ method allows us to define the behaviour of the + operator for objects of your class. This is an example of operator overloading.\n",
    "\n",
    "\"\"\" \n",
    "\n",
    "## example\n",
    "class Vector:\n",
    "\n",
    "    def __init__(self, x, y):\n",
    "\n",
    "        self.x = x\n",
    "\n",
    "        self.y = y\n",
    "\n",
    " \n",
    "\n",
    "    def __add__(self, other):\n",
    "\n",
    "        return Vector(self.x + other.x, self.y + other.y)\n",
    "\n",
    " \n",
    "\n",
    "    def __repr__(self):\n",
    "\n",
    "        return f\"Vector({self.x}, {self.y})\"\n",
    "\n",
    " \n",
    "\n",
    "# Creating two vectors\n",
    "\n",
    "v1 = Vector(2, 3)\n",
    "\n",
    "v2 = Vector(4, 5)\n",
    "\n",
    " \n",
    "\n",
    "# Adding vectors\n",
    "\n",
    "v3 = v1 + v2\n",
    "\n",
    "print(v3)  "
   ]
  },
  {
   "cell_type": "code",
   "execution_count": null,
   "id": "328979ce-94c8-4d90-885e-2b0d4343cc7a",
   "metadata": {},
   "outputs": [],
   "source": []
  },
  {
   "cell_type": "markdown",
   "id": "2280ca8d-2e36-4137-9294-187409fb25ed",
   "metadata": {},
   "source": [
    "## 12. Create a decorator that measures and prints the execution time of a function."
   ]
  },
  {
   "cell_type": "code",
   "execution_count": 13,
   "id": "8ca0328f-f691-4b31-8abc-6ffc626efdd7",
   "metadata": {},
   "outputs": [],
   "source": [
    "## code\n",
    "import time\n",
    "def timer_decorator(func):\n",
    "    def timer():\n",
    "        start = time.time()\n",
    "        func()\n",
    "        end = time.time()\n",
    "        print(\"The time for executing the code\", end-start)\n",
    "    return timer"
   ]
  },
  {
   "cell_type": "code",
   "execution_count": 14,
   "id": "fd7d8c2e-e62e-4b82-aa78-23e61a0d78ec",
   "metadata": {},
   "outputs": [],
   "source": [
    "@timer_decorator\n",
    "def func_test():\n",
    "    print(10000000*100000000)"
   ]
  },
  {
   "cell_type": "code",
   "execution_count": 15,
   "id": "a711e8b9-b46b-474e-9371-b6de36e527dc",
   "metadata": {},
   "outputs": [
    {
     "name": "stdout",
     "output_type": "stream",
     "text": [
      "1000000000000000\n",
      "The time for executing the code 5.030632019042969e-05\n"
     ]
    }
   ],
   "source": [
    "func_test()"
   ]
  },
  {
   "cell_type": "code",
   "execution_count": null,
   "id": "75aa4cfa-8b7a-443f-a9ec-c6c354050af4",
   "metadata": {},
   "outputs": [],
   "source": []
  },
  {
   "cell_type": "markdown",
   "id": "ab86ce24-ef9e-4116-aab2-1a3dd42b635f",
   "metadata": {},
   "source": [
    "## 13. Explain the concept of the Diamond Problem in multiple inheritance. How does Python resolve it?"
   ]
  },
  {
   "cell_type": "markdown",
   "id": "9ce93303-cc1e-42e6-a4a9-c752ba110498",
   "metadata": {},
   "source": [
    "The Diamond Problem is a classic issue in OOPS languages that support multiple inheritance. It arises when a class inherits from two or more classes that have a common base class, creating a diamond-shaped inheritance structure. \n",
    "\n",
    "Solution to Diamond Problem\n",
    "\n",
    "Python uses the C3 Linearization algorithm to resolve the Diamond Problem. This algorithm determines the method resolution order (MRO) by creating a linear order of classes that ensures consistent and predictable inheritance behavior."
   ]
  },
  {
   "cell_type": "code",
   "execution_count": null,
   "id": "1019601a-11ed-4790-96a6-fb19907f3971",
   "metadata": {},
   "outputs": [],
   "source": []
  },
  {
   "cell_type": "markdown",
   "id": "91e104c8-5827-429d-b15b-9c973a589fa6",
   "metadata": {},
   "source": [
    "## 14. Write a class method that keeps track of the number of instances created from a class."
   ]
  },
  {
   "cell_type": "code",
   "execution_count": 25,
   "id": "00d54e89-b154-4203-905e-3eedb837927d",
   "metadata": {},
   "outputs": [
    {
     "name": "stdout",
     "output_type": "stream",
     "text": [
      "4\n"
     ]
    }
   ],
   "source": [
    "class InstanceCounter:\n",
    "    instance_count = 0  ## variable to count no.of instances created\n",
    "\n",
    "    def __init__(self):\n",
    "        \n",
    "        InstanceCounter.instance_count += 1 # increament by 1\n",
    "\n",
    "    @classmethod\n",
    "    def get_instance_count(cls):\n",
    "       \n",
    "        return cls.instance_count  # This method returns the number of instances created\n",
    "\n",
    "# Creating instances\n",
    "a = InstanceCounter()  \n",
    "b = InstanceCounter()\n",
    "c = InstanceCounter()\n",
    "d = InstanceCounter()\n",
    "\n",
    "# Checking the count of instances created\n",
    "print(InstanceCounter.get_instance_count())  \n"
   ]
  },
  {
   "cell_type": "code",
   "execution_count": null,
   "id": "3ec439ce-2bf3-48d9-87d2-b5585a37fd22",
   "metadata": {},
   "outputs": [],
   "source": []
  },
  {
   "cell_type": "markdown",
   "id": "13b13390-da56-4bfb-bea4-7b6a18c7bfd1",
   "metadata": {},
   "source": [
    "## 15. Implement a static method in a class that checks if a given year is a leap year."
   ]
  },
  {
   "cell_type": "code",
   "execution_count": 20,
   "id": "fd6f518e-531a-4d84-b705-eebbdf8e6266",
   "metadata": {},
   "outputs": [],
   "source": [
    "class Leap_Year:\n",
    "    @staticmethod\n",
    "    def check_leap(n):\n",
    "        if n%4 == 0:\n",
    "            return \"It's a leap year!\"\n",
    "        else:\n",
    "            return \"It's not a leap year!\"\n"
   ]
  },
  {
   "cell_type": "code",
   "execution_count": 21,
   "id": "c11d23cc-7103-48c8-b3d1-28e09d56022f",
   "metadata": {},
   "outputs": [
    {
     "data": {
      "text/plain": [
       "\"It's not a leap year!\""
      ]
     },
     "execution_count": 21,
     "metadata": {},
     "output_type": "execute_result"
    }
   ],
   "source": [
    "Leap_Year.check_leap(2009)"
   ]
  },
  {
   "cell_type": "code",
   "execution_count": 22,
   "id": "e8293af5-0ee2-4365-a094-4bdaf79733f4",
   "metadata": {},
   "outputs": [
    {
     "data": {
      "text/plain": [
       "\"It's a leap year!\""
      ]
     },
     "execution_count": 22,
     "metadata": {},
     "output_type": "execute_result"
    }
   ],
   "source": [
    "Leap_Year.check_leap(2012)"
   ]
  },
  {
   "cell_type": "code",
   "execution_count": null,
   "id": "4d9ffbbc-9c06-40ea-a899-5d070da3590d",
   "metadata": {},
   "outputs": [],
   "source": []
  }
 ],
 "metadata": {
  "kernelspec": {
   "display_name": "Python 3 (ipykernel)",
   "language": "python",
   "name": "python3"
  },
  "language_info": {
   "codemirror_mode": {
    "name": "ipython",
    "version": 3
   },
   "file_extension": ".py",
   "mimetype": "text/x-python",
   "name": "python",
   "nbconvert_exporter": "python",
   "pygments_lexer": "ipython3",
   "version": "3.10.8"
  }
 },
 "nbformat": 4,
 "nbformat_minor": 5
}
